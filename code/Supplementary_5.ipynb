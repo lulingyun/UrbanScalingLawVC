{
 "cells": [
  {
   "cell_type": "code",
   "execution_count": 1,
   "metadata": {},
   "outputs": [],
   "source": [
    "#关于文档的一个数据分类\n",
    "import pandas as pd\n",
    "import seaborn as sns  #用于绘制热图的工具包\n",
    "from scipy.cluster import hierarchy  #用于进行层次聚类，话层次聚类图的工具包\n",
    "from scipy import cluster   \n",
    "import matplotlib.pyplot as plt\n",
    "from sklearn import decomposition as skldec #用于主成分分析降维的包\n",
    "import numpy as np\n",
    "#import csv\n",
    "import math\n",
    "from pandas import Series,DataFrame\n",
    "from matplotlib.ticker import  MultipleLocator\n",
    "import pylab as pl   #画图用\n",
    "from sklearn import svm\n",
    "from sklearn import linear_model"
   ]
  },
  {
   "cell_type": "code",
   "execution_count": 2,
   "metadata": {},
   "outputs": [],
   "source": [
    "pop=['2000Pop','2001Pop','2002Pop','2003Pop','2004Pop','2005Pop','2006Pop','2007Pop','2008Pop','2009Pop',\n",
    "     '2010Pop','2011Pop','2012Pop','2013Pop','2014Pop','2015Pop','2016Pop','2017Pop']\n",
    "gdp=['2000GDP','2001GDP','2002GDP','2003GDP','2004GDP','2005GDP','2006GDP','2007GDP','2008GDP','2009GDP',\n",
    "     '2010GDP','2011GDP','2012GDP','2013GDP','2014GDP','2015GDP','2016GDP','2017GDP']\n",
    "area=['2000Area','2001Area','2002Area','2003Area','2004Area','2005Area','2006Area','2007Area','2008Area','2009Area',\n",
    "     '2010Area','2011Area','2012Area','2013Area','2014Area','2015Area','2016Area','2017Area']\n",
    "roadleng=['2000Roadleng','2001Roadleng','2002Roadleng','2003Roadleng','2004Roadleng','2005Roadleng','2006Roadleng','2007Roadleng','2008Roadleng','2009Roadleng',\n",
    "     '2010Roadleng','2011Roadleng','2012Roadleng','2013Roadleng','2014Roadleng','2015Roadleng','2016Roadleng','2017Roadleng']\n",
    "inv_times=['2000invtime','2001invtime','2002invtime','2003invtime','2004invtime','2005invtime','2006invtime','2007invtime','2008invtime','2009invtime',\n",
    "     '2010invtime','2011invtime','2012invtime','2013invtime','2014invtime','2015invtime','2016invtime','2017invtime']\n",
    "investment=['2000inv','2001inv','2002inv','2003inv','2004inv','2005inv','2006inv','2007inv','2008inv','2009inv',\n",
    "     '2010inv','2011inv','2012inv','2013inv','2014inv','2015inv','2016inv','2017inv']"
   ]
  },
  {
   "cell_type": "code",
   "execution_count": 3,
   "metadata": {},
   "outputs": [],
   "source": [
    "data =pd.read_excel('E:/文档系列/python 系列/TheData/0_theDATA_end(1991-2017pop&GDP&vc)/ALL_Intersection.xlsx')  # 读取训练数据\n",
    "city=data['City'].drop_duplicates().values\n",
    "City=data['city'].drop_duplicates().values"
   ]
  },
  {
   "cell_type": "code",
   "execution_count": 4,
   "metadata": {},
   "outputs": [
    {
     "name": "stderr",
     "output_type": "stream",
     "text": [
      "D:\\Users\\lu\\Anaconda3\\lib\\site-packages\\ipykernel_launcher.py:28: RuntimeWarning: divide by zero encountered in log\n"
     ]
    }
   ],
   "source": [
    "from scipy.optimize import leastsq  ##引入最小二乘法算法\n",
    "#需要拟合的函数func :指定函数的形状\n",
    "def func(p,x):\n",
    "    k,b=p\n",
    "    return k*x+b\n",
    "\n",
    "##偏差函数：x,y都是列表:这里的x,y更上面的Xi,Yi中是一一对应的\n",
    "def error(p,x,y):\n",
    "    return func(p,x)-y\n",
    "\n",
    "plt.rcParams['font.sans-serif']=['Simhei']     #解决中文显示问题，目前只知道黑体可行\n",
    "plt.rcParams['axes.unicode_minus']=False       #解决负数坐标显示问题\n",
    "##### 求残差 logy-log（kx+b）\n",
    "def GuiJI(data,xl,yl,i,xname,yname):\n",
    "    ###xl,yl：列名的list,xname,yname：列名,i:年份\n",
    "    city=data['City'].drop_duplicates().values\n",
    "    r=[]  ###标度率\n",
    "    ###保存取完log后大于0的值\n",
    "    p=[]\n",
    "    g=[]\n",
    "    ###保存所有的log值，小于0的记录为-1\n",
    "    p2=[]\n",
    "    g2=[]\n",
    "    ###取列值的log\n",
    "    XI=data[xl[i]]\n",
    "    YI=data[yl[i]]\n",
    "    xi=np.log(XI)\n",
    "    yi=np.log(YI)\n",
    "    XII=xi.fillna(np.infty) ###将空值置为inf\n",
    "    YII=yi.fillna(np.infty)\n",
    "    ###判断是否大于0\n",
    "    City=[]###保存log值大于0的城市名\n",
    "    for mm in range(len(XII)):\n",
    "        if XII[mm]==-float('Inf') or XII[mm]==float('Inf') or YII[mm]==-float('Inf') or YII[mm]==float('Inf'):\n",
    "            continue\n",
    "        else:\n",
    "            p.append(XII[mm])\n",
    "            g.append(YII[mm])\n",
    "            City.append(city[mm])\n",
    "    return(City)\n",
    "cityM = GuiJI(data,pop,investment,15,'pop','amount')###按照2015年含有投资金额的城市来删选2000-2016年间关于GDP\\amount\\times的数据"
   ]
  },
  {
   "cell_type": "code",
   "execution_count": 5,
   "metadata": {},
   "outputs": [],
   "source": [
    "dataM = pd.DataFrame(columns=data.columns)\n",
    "for cc in range(len(city)):\n",
    "    if city[cc] in cityM:\n",
    "        dataM.loc[cc] = list(data[cc:cc+1].values[0])"
   ]
  },
  {
   "cell_type": "code",
   "execution_count": 6,
   "metadata": {},
   "outputs": [],
   "source": [
    "dataPOP=dataM.iloc[:,3:21]###获取POP的数据\n",
    "dataGDP=dataM.iloc[:,22:40]###获取GDP的数据\n",
    "dataAmount = dataM.iloc[:,50:68]###投资金额\n",
    "dataTimes = dataM.iloc[:,77:95]###投资次数"
   ]
  },
  {
   "cell_type": "code",
   "execution_count": 8,
   "metadata": {},
   "outputs": [],
   "source": [
    "####计算城市两者之间的相关性 ######\n",
    "def AnumT2(data,data2,pop,m):###m代表第几行的城市\n",
    "    corrCity = []###记录城市的相关性值  \n",
    "    for t in range(1,11):\n",
    "        Acity = [] ###记录每两年间的情况\n",
    "        pop1 = data.iloc[m:m+1,0:len(pop)-t].fillna(0).values[0]###时间序列长度必须一致，每次往后挪一列\n",
    "        pop2 = data2.iloc[m:m+1,t:18].fillna(0).values[0]\n",
    "        a1=0\n",
    "        a2=0\n",
    "        for xx in range(len(pop1)):\n",
    "            a1+=pop1[xx]**2\n",
    "            a2+=pop2[xx]**2\n",
    "        a=(a1**0.5)*(a2**0.5)\n",
    "        b=0\n",
    "        for j in range(len(pop1)):\n",
    "            b+=pop1[j]*pop2[j]\n",
    "        if a==0:\n",
    "            corrCity.append(0)\n",
    "        else:\n",
    "            corrCity.append(b/a)\n",
    "    return(corrCity)"
   ]
  },
  {
   "cell_type": "code",
   "execution_count": 9,
   "metadata": {},
   "outputs": [],
   "source": [
    "TCity_AT = []\n",
    "TCity_AG = []\n",
    "for nn in range(dataM.shape[0]):\n",
    "    TCity_AT.append(AnumT2(dataAmount,dataTimes,inv_times,nn))\n",
    "    TCity_AG.append(AnumT2(dataAmount,dataGDP,gdp,nn))\n",
    "dfT_AT=pd.DataFrame(TCity_AT)\n",
    "dfT_AG=pd.DataFrame(TCity_AG)\n",
    "meanTAT = dfT_AT.mean()\n",
    "meanTAG = dfT_AG.mean()"
   ]
  },
  {
   "cell_type": "code",
   "execution_count": 10,
   "metadata": {},
   "outputs": [
    {
     "data": {
      "image/png": "[encoded data removed]",
      "text/plain": [
       "<Figure size 504x432 with 1 Axes>"
      ]
     },
     "metadata": {},
     "output_type": "display_data"
    }
   ],
   "source": [
    "x=np.arange(1,11)\n",
    "plt.figure(figsize=(7,6))\n",
    "# plt.plot(x,meanTA,marker='o',label='amount')\n",
    "plt.plot(x,meanTAT,marker='H',label='amount & # investments',markersize=8)\n",
    "plt.plot(x,meanTAG,marker='d',label='amount & GMP',markersize=8)\n",
    "font2 = {'family' : 'Arial',\n",
    "    'weight' : 'normal',\n",
    "    'size' : 22,\n",
    "    }\n",
    "font1 = {'family' : 'Arial',\n",
    "    'weight' : 'normal',\n",
    "    'size' : 16,\n",
    "    }\n",
    "plt.tick_params(labelsize=16) #刻度字体大小13\n",
    "plt.xlabel('Δt[years]',font2)\n",
    "plt.ylabel('A(Δt)',font2)\n",
    "plt.legend(prop=font1)\n",
    "plt.savefig('E:/文档系列/python 系列/picScalling/20201025NEW/Supplementary Fig5.pdf', bbox_inches='tight')"
   ]
  },
  {
   "cell_type": "code",
   "execution_count": null,
   "metadata": {},
   "outputs": [],
   "source": []
  }
 ],
 "metadata": {
  "kernelspec": {
   "display_name": "Python 3",
   "language": "python",
   "name": "python3"
  },
  "language_info": {
   "codemirror_mode": {
    "name": "ipython",
    "version": 3
   },
   "file_extension": ".py",
   "mimetype": "text/x-python",
   "name": "python",
   "nbconvert_exporter": "python",
   "pygments_lexer": "ipython3",
   "version": "3.6.5"
  }
 },
 "nbformat": 4,
 "nbformat_minor": 2
}
